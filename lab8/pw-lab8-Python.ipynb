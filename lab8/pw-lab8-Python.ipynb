{
 "cells": [
  {
   "attachments": {},
   "cell_type": "markdown",
   "metadata": {},
   "source": [
    "**UNIVERSIDADE LUSÓFONA DE HUMANIDADES E TECNOLOGIAS**\n",
    "\n",
    "# Programação Web -  Lab. 8: Python\n",
    "\n",
    "* Estes exercícios estão reidgidos em forma de tutorial para exercitar conceitos chave do Python associados com sets e dicionários. \n",
    "* Consulte os slides se tiver dúvidas. Estes contêm toda a matéria necessária para realizar estes exercícios.\n",
    "* Consulte os [video-tutoriais](https://educast.fccn.pt/vod/channels/1fzfn2fjbd?locale=en) curtos que explicam conceitos específicos do Python."
   ]
  },
  {
   "attachments": {},
   "cell_type": "markdown",
   "metadata": {
    "id": "cecSdetMJ8dx"
   },
   "source": [
    "# 0. Sets\n",
    "\n",
    "[sets: video-tutorial (5 min)](https://educast.fccn.pt/vod/clips/2h0d4s8ob4/desktop.mp4?locale=pt)\n",
    "\n",
    "Num infantário perguntaram às crianças qual a prenda de Natal que queriam. Resultou na seguinte lista:"
   ]
  },
  {
   "cell_type": "code",
   "execution_count": 3,
   "metadata": {
    "id": "-Y8M2yLQJ8d3"
   },
   "outputs": [],
   "source": [
    "lista_brinquedos = ['bola', 'boneca', 'carro', 'boneca', 'boneca', 'bola', 'boneca', 'carro', \n",
    "                    'boneca', 'boneca', 'pião', 'bola', 'boneca', 'carro', 'boneca', 'boneca', \n",
    "                    'bola', 'boneca', 'carro', 'boneca', 'boneca', 'bola', 'carro', 'bola', \n",
    "                    'carro', 'boneca', 'boneca', 'carro', 'carro', 'carro']"
   ]
  },
  {
   "attachments": {},
   "cell_type": "markdown",
   "metadata": {
    "id": "9dc7CSF9J8d5"
   },
   "source": [
    "1 Calcule quantos brinquedos existem"
   ]
  },
  {
   "cell_type": "code",
   "execution_count": 4,
   "metadata": {
    "id": "086YZS7pJ8d6"
   },
   "outputs": [
    {
     "name": "stdout",
     "output_type": "stream",
     "text": [
      "30\n"
     ]
    }
   ],
   "source": [
    "count = 0\n",
    "\n",
    "for brinquedo in lista_brinquedos:\n",
    "    count += 1\n",
    "\n",
    "print(count)"
   ]
  },
  {
   "attachments": {},
   "cell_type": "markdown",
   "metadata": {
    "id": "9dc7CSF9J8d5"
   },
   "source": [
    "2 Crie o set de brinquedos pretendidos\n",
    "\n",
    "Resultado esperado: `{'bola', 'boneca', 'carro', 'pião'}` \n",
    "\n",
    "Nota: o resultado pode estar noutra ordem pois um set é um conjunto onde os elementos não têm uma posição como nas sequências!"
   ]
  },
  {
   "cell_type": "code",
   "execution_count": 5,
   "metadata": {
    "id": "086YZS7pJ8d6"
   },
   "outputs": [
    {
     "name": "stdout",
     "output_type": "stream",
     "text": [
      "{'carro', 'bola', 'pião', 'boneca'}\n"
     ]
    }
   ],
   "source": [
    "conjunto = set(lista_brinquedos)\n",
    "print(conjunto)"
   ]
  },
  {
   "attachments": {},
   "cell_type": "markdown",
   "metadata": {
    "id": "NpKtoa9LJ8d7"
   },
   "source": [
    "3. Crie o set dos brinquedos pretendidos recorrendo a uma compreensão."
   ]
  },
  {
   "cell_type": "code",
   "execution_count": 6,
   "metadata": {
    "id": "7fZSYcwIJ8d7"
   },
   "outputs": [
    {
     "name": "stdout",
     "output_type": "stream",
     "text": [
      "{'carro', 'bola', 'pião', 'boneca'}\n"
     ]
    }
   ],
   "source": [
    "conjunto = {brinquedo for brinquedo in lista_brinquedos}\n",
    "print(conjunto)"
   ]
  },
  {
   "attachments": {},
   "cell_type": "markdown",
   "metadata": {
    "id": "jZWABtadJ8d7"
   },
   "source": [
    "4. Itere pelo set de brinquedos, imprimindo o seu nome e a quantidade de brinquedos desse tipo existentes na lista. Para tal, utilize o método `count()` para contar a frequenciai de cada brinquedo na lista de brinquedos. Exemplo do resultado esperado:\n",
    "\n",
    "```\n",
    "boneca: 14\n",
    "bola: 6\n",
    "pião: 1\n",
    "carro: 9\n",
    "```\n",
    "\n",
    "Nota: o resultado pode estar noutra ordem pois um set é um conjunto onde os elementos não têm uma posição como nas sequências!"
   ]
  },
  {
   "cell_type": "code",
   "execution_count": 7,
   "metadata": {},
   "outputs": [
    {
     "name": "stdout",
     "output_type": "stream",
     "text": [
      "carro: 9\n",
      "bola: 6\n",
      "pião: 1\n",
      "boneca: 14\n"
     ]
    }
   ],
   "source": [
    "for brinquedo in set(lista_brinquedos):\n",
    "    print(f\"{brinquedo}: {lista_brinquedos.count(brinquedo)}\")"
   ]
  },
  {
   "attachments": {},
   "cell_type": "markdown",
   "metadata": {},
   "source": [
    "Para saber a quantidade de ocorrencias de um determinado brinquedo, pode usar a seguinte instrução: \n",
    "\n",
    "`lista_brinquedos.count('boneca')`\n",
    "\n",
    "Experimente-a para ver quantas bonecas existem."
   ]
  },
  {
   "cell_type": "code",
   "execution_count": 8,
   "metadata": {},
   "outputs": [
    {
     "data": {
      "text/plain": [
       "14"
      ]
     },
     "execution_count": 8,
     "metadata": {},
     "output_type": "execute_result"
    }
   ],
   "source": [
    "lista_brinquedos.count('boneca')"
   ]
  },
  {
   "attachments": {},
   "cell_type": "markdown",
   "metadata": {
    "id": "jZWABtadJ8d7"
   },
   "source": [
    "5. Itere pelo set de brinquedos, imprimindo o seu nome e a quantidade de brinquedos desse tipo existentes na lista. Para tal, utilize o método `count()` para contar as ocorrências de cada brinquedo na lista de brinquedos. Exemplo do resultado esperado:\n",
    "\n",
    "```\n",
    "Existem 14 bonecas\n",
    "Existem 6 bolas\n",
    "Existe 1 pião\n",
    "Existem 9 carros\n",
    "```\n",
    "\n",
    "Deverá garantir que a frase diferencia quando existe apenas uma ocorrencia (frase no singular), ou mais do que uma ocorrência (plural).\n",
    "\n",
    "Nota: o resultado pode estar noutra ordem pois um set é um conjunto onde os elementos não têm uma posição como nas sequências!"
   ]
  },
  {
   "cell_type": "code",
   "execution_count": 9,
   "metadata": {
    "id": "aa1jzFccJ8d8",
    "outputId": "8efe71d6-0d7c-4146-b6cf-677132a73304"
   },
   "outputs": [
    {
     "name": "stdout",
     "output_type": "stream",
     "text": [
      "Existem 9 carros\n",
      "Existem 6 bolas\n",
      "Existem 1 piãos\n",
      "Existem 14 bonecas\n"
     ]
    }
   ],
   "source": [
    "for brinquedo in set(lista_brinquedos):\n",
    "    print(f\"Existem {lista_brinquedos.count(brinquedo)} {brinquedo}s\")"
   ]
  },
  {
   "attachments": {},
   "cell_type": "markdown",
   "metadata": {},
   "source": [
    "# 1. Jantar\n",
    "\n",
    "[Sets e dicionarios: video-tutorial (4 min)](https://educast.fccn.pt/vod/clips/2loqfocen7/desktop.mp4?locale=pt)\n",
    "\n",
    "Foi a um jantar de curso e havia tres pratos. Foi circulado um papel onde as pessoas foram inserindo a sua escolha, resultando na seguinte lista:"
   ]
  },
  {
   "cell_type": "code",
   "execution_count": 10,
   "metadata": {},
   "outputs": [],
   "source": [
    "pratos = [\"carne\", 'peixe', 'vegetariano', 'peixe', \n",
    "          'vegetariano', 'vegetariano', 'peixe', 'carne',\n",
    "          'vegetariano', 'vegetariano', 'peixe', 'peixe', \n",
    "          'carne', 'peixe', 'carne', 'vegetariano']"
   ]
  },
  {
   "attachments": {},
   "cell_type": "markdown",
   "metadata": {},
   "source": [
    "1. Calcule o numero total de pratos pedidos"
   ]
  },
  {
   "cell_type": "code",
   "execution_count": 11,
   "metadata": {},
   "outputs": [
    {
     "name": "stdout",
     "output_type": "stream",
     "text": [
      "16\n"
     ]
    }
   ],
   "source": [
    "count = 0\n",
    "\n",
    "for prato in pratos:\n",
    "    count += 1\n",
    "\n",
    "print(count)"
   ]
  },
  {
   "attachments": {},
   "cell_type": "markdown",
   "metadata": {},
   "source": [
    "2. Crie o set pratos, com o conjunto de pratos que foram pedidos"
   ]
  },
  {
   "cell_type": "code",
   "execution_count": 12,
   "metadata": {},
   "outputs": [
    {
     "name": "stdout",
     "output_type": "stream",
     "text": [
      "{'vegetariano', 'carne', 'peixe'}\n"
     ]
    }
   ],
   "source": [
    "conjunto = set(pratos)\n",
    "print(conjunto)"
   ]
  },
  {
   "attachments": {},
   "cell_type": "markdown",
   "metadata": {},
   "source": [
    "3. Diga quantos pratos diferentes existem"
   ]
  },
  {
   "cell_type": "code",
   "execution_count": 13,
   "metadata": {},
   "outputs": [
    {
     "name": "stdout",
     "output_type": "stream",
     "text": [
      "{'vegetariano', 'carne', 'peixe'}\n"
     ]
    }
   ],
   "source": [
    "conjunto = {prato for prato in pratos}\n",
    "print(conjunto)"
   ]
  },
  {
   "attachments": {},
   "cell_type": "markdown",
   "metadata": {},
   "source": [
    "4. Crie um dicionário de frequências de cada um dos pratos"
   ]
  },
  {
   "cell_type": "code",
   "execution_count": 15,
   "metadata": {},
   "outputs": [
    {
     "name": "stdout",
     "output_type": "stream",
     "text": [
      "{'vegetariano': 6, 'carne': 4, 'peixe': 6}\n"
     ]
    }
   ],
   "source": [
    "d = {}\n",
    "\n",
    "for prato in set(pratos):\n",
    "    d[prato] = pratos.count(prato)\n",
    "\n",
    "print(d)"
   ]
  },
  {
   "attachments": {},
   "cell_type": "markdown",
   "metadata": {},
   "source": [
    "5. Considere o menu do restaurante:\n",
    "* vegetariano: 10.3\n",
    "* carne: 13.2\n",
    "* crudivero: 14.2\n",
    "* peixe: 12.5\n",
    "* marisco: 17.5\n",
    "* vegan: 34\n",
    "\n",
    "Crie um dicionário de preços"
   ]
  },
  {
   "cell_type": "code",
   "execution_count": 16,
   "metadata": {},
   "outputs": [
    {
     "name": "stdout",
     "output_type": "stream",
     "text": [
      "{'vegetariano': 10.3, 'carne': 13.2, 'crudivero': 14.2, 'peixe': 12.5, 'marisco': 17.5, 'vegan': 34}\n"
     ]
    }
   ],
   "source": [
    "dPrecos = dict(vegetariano=10.3, carne=13.2, crudivero=14.2, peixe=12.5, marisco=17.5, vegan=34)\n",
    "print(dPrecos)"
   ]
  },
  {
   "attachments": {},
   "cell_type": "markdown",
   "metadata": {},
   "source": [
    "6. Crie um programa que: \n",
    "* apresenta ao utilizador o conjunto de pratos disponíveis.  \n",
    "* pede ao utilizador para escolher um prato\n",
    "* o programa apresenta o preço do prato\n",
    "\n",
    "\n",
    "Construa um conjunto de funções para tornar o código mais modular."
   ]
  },
  {
   "cell_type": "code",
   "execution_count": 39,
   "metadata": {},
   "outputs": [],
   "source": [
    "def apresentarMenu():\n",
    "\n",
    "    print(\"Menu\")\n",
    "\n",
    "    for prato,preco in dPrecos.items():\n",
    "        print(f\"{prato}: {preco}€\")\n",
    "\n",
    "def pedirPratosLista():\n",
    "\n",
    "    listPratos = []\n",
    "\n",
    "    while (pratoTemp := input()) != '':\n",
    "\n",
    "        for prato in dPrecos.keys():\n",
    "            if(prato == pratoTemp):\n",
    "                listPratos.append(pratoTemp)\n",
    "\n",
    "    return listPratos\n",
    "\n",
    "def pedirPratosDicionario():\n",
    "\n",
    "    dictPratos = {}\n",
    "\n",
    "    while (pratoTemp := input()) != '':\n",
    "\n",
    "        if(pratoTemp in dPrecos.keys()):\n",
    "            if(pratoTemp in dictPratos.keys()):\n",
    "                dictPratos[pratoTemp] += 1\n",
    "            else:\n",
    "                dictPratos[pratoTemp] = 1\n",
    "\n",
    "    return dictPratos\n",
    "\n",
    "def calcularPrecoLista(lista: list[str]):\n",
    "\n",
    "    count = 0\n",
    "    \n",
    "    for prato in lista:\n",
    "        for pratoPreco,preco in dPrecos.items():\n",
    "            if(prato == pratoPreco):\n",
    "                count += preco\n",
    "\n",
    "    return count\n",
    "\n",
    "def calcularPrecoDicionario(dict: dict[str, int]):\n",
    "\n",
    "    count = 0\n",
    "    \n",
    "    for prato,quantidade in dict.items():\n",
    "        for pratoPreco,preco in dPrecos.items():\n",
    "            if(prato == pratoPreco):\n",
    "                count += preco *quantidade\n",
    "\n",
    "    return count\n"
   ]
  },
  {
   "attachments": {},
   "cell_type": "markdown",
   "metadata": {},
   "source": [
    "7. Calcule o valor da conta final, iterando pela lista de pratos"
   ]
  },
  {
   "cell_type": "code",
   "execution_count": 34,
   "metadata": {},
   "outputs": [
    {
     "name": "stdout",
     "output_type": "stream",
     "text": [
      "Menu\n",
      "vegetariano: 10.3€\n",
      "carne: 13.2€\n",
      "crudivero: 14.2€\n",
      "peixe: 12.5€\n",
      "marisco: 17.5€\n",
      "vegan: 34€\n",
      "50.0€\n"
     ]
    }
   ],
   "source": [
    "apresentarMenu()\n",
    "lista = pedirPratosLista()\n",
    "print(f\"Valor total da conta:{calcularPrecoLista(lista)}€\")"
   ]
  },
  {
   "attachments": {},
   "cell_type": "markdown",
   "metadata": {},
   "source": [
    "8. Calcule o valor da conta final, iterando pelos elementos do dicionário"
   ]
  },
  {
   "cell_type": "code",
   "execution_count": 40,
   "metadata": {},
   "outputs": [
    {
     "name": "stdout",
     "output_type": "stream",
     "text": [
      "Menu\n",
      "vegetariano: 10.3€\n",
      "carne: 13.2€\n",
      "crudivero: 14.2€\n",
      "peixe: 12.5€\n",
      "marisco: 17.5€\n",
      "vegan: 34€\n",
      "Valor total da conta:50.0€\n"
     ]
    }
   ],
   "source": [
    "apresentarMenu()\n",
    "dicionario = pedirPratosDicionario()\n",
    "print(f\"Valor total da conta:{calcularPrecoDicionario(dicionario)}€\")"
   ]
  },
  {
   "attachments": {},
   "cell_type": "markdown",
   "metadata": {
    "id": "hbZyHblFJ8d-"
   },
   "source": [
    "# 2. Dicionários\n",
    "\n",
    "[Iteração por dicionarios: video-tutorial (5 min)](https://educast.fccn.pt/vod/clips/6rv7j9es0/desktop.mp4?locale=pt)\n",
    "\n",
    "Considere a lista de brinquedos em baixo"
   ]
  },
  {
   "cell_type": "code",
   "execution_count": 1,
   "metadata": {
    "id": "BpjjFg0mJ8d_"
   },
   "outputs": [],
   "source": [
    "lista_brinquedos = ['bola', 'boneca', 'carro', 'boneca', 'boneca', 'bola', 'boneca', 'carro', \n",
    "                    'boneca', 'boneca', 'pião', 'bola', 'boneca', 'carro', 'boneca', 'boneca', \n",
    "                    'bola', 'boneca', 'carro', 'boneca', 'boneca', 'bola', 'carro', 'bola', \n",
    "                    'carro', 'boneca', 'boneca', 'carro', 'carro', 'carro']"
   ]
  },
  {
   "attachments": {},
   "cell_type": "markdown",
   "metadata": {
    "id": "_tg08suzJ8d_"
   },
   "source": [
    "2.1 Com base na lista anterior e recorrendo ao set, crie um dicionario, recorrendo a um ciclo ```for```, em que, para cada brinquedo (chave), guarda a quantidade de brinquedos (valor)\n",
    "\n",
    "Resultado esperado: `{'bola': 6, 'boneca': 14, 'carro': 9, 'pião': 1}`"
   ]
  },
  {
   "cell_type": "code",
   "execution_count": 4,
   "metadata": {
    "id": "tGCK-8RiJ8eA"
   },
   "outputs": [
    {
     "name": "stdout",
     "output_type": "stream",
     "text": [
      "{'pião': 1, 'bola': 6, 'carro': 9, 'boneca': 14}\n"
     ]
    }
   ],
   "source": [
    "set_brinquedos = set(lista_brinquedos)\n",
    "\n",
    "dicionario_brinquedos = {}\n",
    "\n",
    "for brinquedo in set_brinquedos:\n",
    "    dicionario_brinquedos[brinquedo] = lista_brinquedos.count(brinquedo)\n",
    "\n",
    "print(dicionario_brinquedos)"
   ]
  },
  {
   "attachments": {},
   "cell_type": "markdown",
   "metadata": {
    "id": "vuqdMutUJ8eA"
   },
   "source": [
    "2.2 Itere pelos elementos do dicionario, imprimindo as chaves do dicionário (utilize o método `.keys()`). Formate devidamente as impressões para chegar um resultado no seguinte formato:\n",
    "\n",
    "```\n",
    "brinquedos: bola, boneca, carro, pião.\n",
    "```"
   ]
  },
  {
   "cell_type": "code",
   "execution_count": 7,
   "metadata": {
    "id": "x4hLYJnbJ8eA"
   },
   "outputs": [
    {
     "name": "stdout",
     "output_type": "stream",
     "text": [
      "brinquedos: pião, bola, carro, boneca.\n"
     ]
    }
   ],
   "source": [
    "string = \"brinquedos:\"\n",
    "\n",
    "for brinquedo in dicionario_brinquedos.keys():\n",
    "    string += \" \" + brinquedo + \",\"\n",
    "\n",
    "string = string[:-1] + \".\"\n",
    "\n",
    "print(string)"
   ]
  },
  {
   "attachments": {},
   "cell_type": "markdown",
   "metadata": {
    "id": "tBpTem9yJ8eB"
   },
   "source": [
    "2.3 Itere pelos elementos do dicionario, imprimindo apenas os valores do dicionário (utilize o método `.values()`) e apresentando também o numero total de brinquedos. Formate devidamente as impressões para chegar um resultado no seguinte formato:\n",
    "```\n",
    "Quantidades: 6, 14, 9, 1\n",
    "Total de brinquedos: 30\n",
    "```"
   ]
  },
  {
   "cell_type": "code",
   "execution_count": 9,
   "metadata": {
    "id": "5_q43Aq9J8eB"
   },
   "outputs": [
    {
     "name": "stdout",
     "output_type": "stream",
     "text": [
      "Qauntidades: 1, 6, 9, 14\n",
      "Total de brinquedos: 30\n"
     ]
    }
   ],
   "source": [
    "string_quantidades = \"Qauntidades:\"\n",
    "count = 0\n",
    "\n",
    "for brinquedo in dicionario_brinquedos.values():\n",
    "    string_quantidades += \" \" + str(brinquedo) + \",\"\n",
    "    count += brinquedo\n",
    "\n",
    "string_quantidades = string_quantidades[:-1]\n",
    "string_quantidades += \"\\nTotal de brinquedos: \" + str(count)\n",
    "\n",
    "print(string_quantidades)"
   ]
  },
  {
   "attachments": {},
   "cell_type": "markdown",
   "metadata": {
    "id": "tbWTrqWMJ8eB"
   },
   "source": [
    "2.4 Itere pelos elementos do dicionario, imprimindo as chaves e os valores do dicionário (utilize o método `.items()`).\n",
    "\n",
    " Exemplo do resultado esperado:\n",
    "\n",
    "```\n",
    "Existem 14 bonecas\n",
    "Existem 6 bolas\n",
    "Existe 1 pião\n",
    "Existem 9 carros\n",
    "```\n",
    "\n",
    "Deverá garantir que a frase diferencia quando existe apenas uma ocorrencia (frase no singular), ou mais do que uma ocorrência (plural)."
   ]
  },
  {
   "cell_type": "code",
   "execution_count": 10,
   "metadata": {
    "id": "fv2nybfKJ8eB"
   },
   "outputs": [
    {
     "name": "stdout",
     "output_type": "stream",
     "text": [
      "Existe 1 pião\n",
      "Existem 6 bolas\n",
      "Existem 9 carros\n",
      "Existem 14 bonecas\n"
     ]
    }
   ],
   "source": [
    "for brinquedo, quantidade in dicionario_brinquedos.items():\n",
    "    if quantidade == 1:\n",
    "        print(f\"Existe 1 {brinquedo}\")\n",
    "    else:\n",
    "        print(f\"Existem {quantidade} {brinquedo}s\")"
   ]
  },
  {
   "attachments": {},
   "cell_type": "markdown",
   "metadata": {
    "id": "MhVAvgNLJ8eC"
   },
   "source": [
    "2.5 Transforme os items do dicionario (lembre-se do método para obter os items...) numa lista de tuplos, com a função `list`.\n",
    "\n",
    "Resultado esperado: `[('bola', 6), ('boneca', 14), ('carro', 9)]`"
   ]
  },
  {
   "cell_type": "code",
   "execution_count": 11,
   "metadata": {
    "id": "PYJa4RwyJ8eC"
   },
   "outputs": [
    {
     "name": "stdout",
     "output_type": "stream",
     "text": [
      "[('pião', 1), ('bola', 6), ('carro', 9), ('boneca', 14)]\n"
     ]
    }
   ],
   "source": [
    "list_brinquedos = list(dicionario_brinquedos.items())\n",
    "print(list_brinquedos)"
   ]
  },
  {
   "attachments": {},
   "cell_type": "markdown",
   "metadata": {
    "id": "kaZDERu3J8eC"
   },
   "source": [
    "2.6 Como o dicionário não é ordenável, este é convertido numa lista, que depois pode ser ordenada. Ordene decrescentemente a lista, pela quantidade de brinquedos, imprimindo de acordo com o formato em baixo:\n",
    "\n",
    "```\n",
    "Existem 14 bonecas\n",
    "Existem 9 carros\n",
    "Existem 6 bolas\n",
    "Existe 1 pião\n",
    "```"
   ]
  },
  {
   "cell_type": "code",
   "execution_count": 12,
   "metadata": {
    "id": "59hnNIlKJ8eD"
   },
   "outputs": [
    {
     "name": "stdout",
     "output_type": "stream",
     "text": [
      "Existem 14 bonecas\n",
      "Existem 9 carros\n",
      "Existem 6 bolas\n",
      "Existe 1 pião\n"
     ]
    }
   ],
   "source": [
    "list_brinquedos = sorted(list_brinquedos, key=lambda tuplo: tuplo[1], reverse=True)\n",
    "\n",
    "for brinquedo, quantidade in list_brinquedos:\n",
    "    if quantidade == 1:\n",
    "        print(f\"Existe 1 {brinquedo}\")\n",
    "    else:\n",
    "        print(f\"Existem {quantidade} {brinquedo}s\")"
   ]
  },
  {
   "attachments": {},
   "cell_type": "markdown",
   "metadata": {
    "id": "xXA4KlHsJ8eD"
   },
   "source": [
    "2.7 Como o dicionário não é ordenável, este é convertido numa lista, que depois pode ser ordenada. Ordene lista alfabeticamente pelo nome do brinquedo, imprimindo de acordo com o formato em baixo:\n",
    "\n",
    "```\n",
    "bonecas: 14\n",
    "carros: 9\n",
    "bolas: 6\n",
    "pião: 1\n",
    "```"
   ]
  },
  {
   "cell_type": "code",
   "execution_count": 13,
   "metadata": {
    "id": "VeQ-qNa2J8eD"
   },
   "outputs": [
    {
     "name": "stdout",
     "output_type": "stream",
     "text": [
      "bolas: 6\n",
      "bonecas: 14\n",
      "carros: 9\n",
      "pião: 1\n"
     ]
    }
   ],
   "source": [
    "list_brinquedos = sorted(list_brinquedos, key=lambda tuplo: tuplo[0])\n",
    "\n",
    "for brinquedo, quantidade in list_brinquedos:\n",
    "    if quantidade == 1:\n",
    "        print(f\"{brinquedo}: {quantidade}\")\n",
    "    else:\n",
    "        print(f\"{brinquedo}s: {quantidade}\")"
   ]
  },
  {
   "attachments": {},
   "cell_type": "markdown",
   "metadata": {
    "id": "Hpk1B5eLJ8eD"
   },
   "source": [
    "# 3. Criando dicionários\n",
    "\n",
    "[Dicionarios e suas operações: video-tutorial (6 min)](https://educast.fccn.pt/vod/clips/1qwauls8yh/desktop.mp4?locale=pt)\n",
    "\n",
    "3.1 Crie um dicionário de idades, onde pede repetidamente ao utilizador para inserir um nome e uma idade, que armazenará num dicionário. Deverá parar a inserção quando o utilizador especificar como nome a palavra 'fim', imprimindo o dicionário resultante. Exemplo de funcionamento:\n",
    "\n",
    "```\n",
    "Insira um nome (ou 'fim' para terminar): Mario\n",
    "Insira a idade do Mario: 13\n",
    "Insira um nome (ou 'fim' para terminar): Ze\n",
    "Insira a idade do Ze: 11\n",
    "Insira um nome (ou 'fim' para terminar): Rui\n",
    "Insira a idade do Rui: 15\n",
    "Insira um nome (ou 'fim' para terminar): fim\n",
    "\n",
    "Dicionário criado: {'Mario': 13, 'Ze': 11, 'Rui': 15}\n",
    "```"
   ]
  },
  {
   "cell_type": "code",
   "execution_count": 14,
   "metadata": {
    "id": "vQjw_EEwJ8eD"
   },
   "outputs": [
    {
     "name": "stdout",
     "output_type": "stream",
     "text": [
      "Dicionário criado: {'Mario': 13, 'Ze': 11, 'Rui': 15}\n"
     ]
    }
   ],
   "source": [
    "idades = {}\n",
    "\n",
    "while True:\n",
    "    nome = input(\"Insira um nome (ou 'fim' para terminar): \")\n",
    "    if nome == 'fim':\n",
    "        break\n",
    "    idade = int(input(f\"Insira a idade do {nome}: \"))\n",
    "    idades[nome] = idade\n",
    "\n",
    "print(f\"Dicionário criado: {idades}\")"
   ]
  },
  {
   "attachments": {},
   "cell_type": "markdown",
   "metadata": {
    "id": "l8IOQ3OhJ8eD"
   },
   "source": [
    "3.2 Com base no dicionário criado, escreva um programa que peça ao utilizador para inserir um nome. O programa deverá indicar a idade dessa pessoa. Repita enquanto não for inserido 'fim'. Caso o nome não conste no dicionário, imprima uma mensagem adequada. PAra tal, antes de consultar o dicionário deverá inquirir se a chave existe no dicionario com o operador `in` (exemplo de utilização: `if amigo in dic_amigos`). Exemplo de funcionamento:\n",
    "\n",
    "```\n",
    "Insira um nome (ou 'fim' para terminar): Ze\n",
    "O Ze tem 11 anos\n",
    "Insira um nome (ou 'fim' para terminar): Luis\n",
    "O Luis não consta no dicionário de amigos\n",
    "Insira um nome (ou 'fim' para terminar): fim\n",
    "Obrigado\n",
    "```"
   ]
  },
  {
   "cell_type": "code",
   "execution_count": 15,
   "metadata": {
    "id": "6T53SzflJ8eE"
   },
   "outputs": [
    {
     "name": "stdout",
     "output_type": "stream",
     "text": [
      "O Mario tem 13 anos\n",
      "O Andre não consta no dicionário de amigos\n",
      "O Ze tem 11 anos\n",
      "Obrigado\n"
     ]
    }
   ],
   "source": [
    "while True:\n",
    "    nome = input(\"Insira um nome (ou 'fim' para terminar): \")\n",
    "    if nome == 'fim':\n",
    "        break\n",
    "    elif nome in idades:\n",
    "        print(f\"O {nome} tem {idades[nome]} anos\")\n",
    "    else:\n",
    "        print(f\"O {nome} não consta no dicionário de amigos\")\n",
    "\n",
    "print(\"Obrigado\")"
   ]
  },
  {
   "attachments": {},
   "cell_type": "markdown",
   "metadata": {
    "id": "OoeFEOrRJ8eE"
   },
   "source": [
    "# 4 Explorando um dicionário\n",
    "\n",
    "Considere o dicionário brinquedos em baixo que tem o inventário dos brinquedos de várias crianças:\n",
    "* Manuel tem um carro e uma bola\n",
    "* Maria tem uma boneca e uma bola\n",
    "* Luís tem uma bola, boneca e carro\n",
    "\n",
    "Exemplo de um dicionário."
   ]
  },
  {
   "cell_type": "code",
   "execution_count": 17,
   "metadata": {
    "id": "43AAAEGCJ8eE"
   },
   "outputs": [],
   "source": [
    "brinquedos = {\n",
    "    \"Manuel\": [\"carro\", \"bola\"],\n",
    "    \"Maria\": [\"boneca\", \"bola\"],\n",
    "    \"Luis\": [\"bola\", \"boneca\", \"carro\"]\n",
    "    }"
   ]
  },
  {
   "attachments": {},
   "cell_type": "markdown",
   "metadata": {
    "id": "BxfhxoNtJ8eE"
   },
   "source": [
    "4.1 Considerando que o dicionário segue a estrutura anterior, escreva uma instrução que compute quantas crianças existem no dicionário\n",
    "\n",
    "Resultado esperado: `Existem 3 crianças`"
   ]
  },
  {
   "cell_type": "code",
   "execution_count": 18,
   "metadata": {
    "id": "3WVGPM7zJ8eE"
   },
   "outputs": [
    {
     "name": "stdout",
     "output_type": "stream",
     "text": [
      "Existem 3 crianças\n"
     ]
    }
   ],
   "source": [
    "print(f\"Existem {len(brinquedos)} crianças\")"
   ]
  },
  {
   "attachments": {},
   "cell_type": "markdown",
   "metadata": {
    "id": "fQe9KZvPJ8eE"
   },
   "source": [
    "4.2 Considerando que o dicionário segue a estrutura anterior, imprima a informação de quantos brinquedos cada criança tem, iterando com um ciclo for pelos items do dicionário, e usando uma string formatada.\n",
    "\n",
    "Resultado esperado:\n",
    "\n",
    "```\n",
    "Manuel: 2 brinquedos \n",
    "Maria: 2 brinquedos \n",
    "Luis: 3 brinquedos\n",
    "```"
   ]
  },
  {
   "cell_type": "code",
   "execution_count": 20,
   "metadata": {
    "id": "4FAlFfhkJ8eF"
   },
   "outputs": [
    {
     "name": "stdout",
     "output_type": "stream",
     "text": [
      "Manuel: 2 brinquedos\n",
      "Maria: 2 brinquedos\n",
      "Luis: 3 brinquedos\n"
     ]
    }
   ],
   "source": [
    "for crianca,list_brinquedos in brinquedos.items():\n",
    "    print(f\"{crianca}: {len(list_brinquedos)} brinquedos\")"
   ]
  },
  {
   "attachments": {},
   "cell_type": "markdown",
   "metadata": {
    "id": "rKy_5teCJ8eF"
   },
   "source": [
    "4.3 Imaginando que conhece a estrutura mas não o conteúdo do dicionário, verifique a quantidade total de brinquedos existente.\n",
    "\n",
    "Exemplo de resultado: `Existem 7 brinquedos`"
   ]
  },
  {
   "cell_type": "code",
   "execution_count": 21,
   "metadata": {
    "id": "imwLcTrkJ8eF"
   },
   "outputs": [
    {
     "name": "stdout",
     "output_type": "stream",
     "text": [
      "Existem 7 brinquedos\n"
     ]
    }
   ],
   "source": [
    "count = 0\n",
    "\n",
    "for list_brinquedos in brinquedos.values():\n",
    "    count += len(list_brinquedos)\n",
    "\n",
    "print(f\"Existem {count} brinquedos\")"
   ]
  },
  {
   "attachments": {},
   "cell_type": "markdown",
   "metadata": {
    "id": "yZ9oUqQ0J8eF"
   },
   "source": [
    "4.4 crie um código que verifique se existe alguma criança com um carro"
   ]
  },
  {
   "cell_type": "code",
   "execution_count": 22,
   "metadata": {
    "id": "JrKy0yuFJ8eF"
   },
   "outputs": [
    {
     "name": "stdout",
     "output_type": "stream",
     "text": [
      "Manuel tem carro\n",
      "Luis tem carro\n"
     ]
    }
   ],
   "source": [
    "crianca_carro = False\n",
    "\n",
    "for crianca,list_brinquedos in brinquedos.items():\n",
    "    if 'carro' in list_brinquedos:\n",
    "        crianca_carro = True"
   ]
  },
  {
   "attachments": {},
   "cell_type": "markdown",
   "metadata": {
    "id": "2BPzvcaTJ8eG"
   },
   "source": [
    "4.5 crie um código que indique os nomes das crianças que têm um carro.\n",
    "\n",
    "Resultado esperado: `Manuel Maria Luis `"
   ]
  },
  {
   "cell_type": "code",
   "execution_count": 26,
   "metadata": {
    "id": "tzHxHy9CJ8eG"
   },
   "outputs": [
    {
     "name": "stdout",
     "output_type": "stream",
     "text": [
      "Manuel Luis "
     ]
    }
   ],
   "source": [
    "for crianca,list_brinquedos in brinquedos.items():\n",
    "    if 'carro' in list_brinquedos:\n",
    "        print(crianca, end=\" \")"
   ]
  },
  {
   "attachments": {},
   "cell_type": "markdown",
   "metadata": {
    "id": "VcjCe8mTJ8eG"
   },
   "source": [
    "4.6 crie um código que indique quantas crianças têm uma boneca\n",
    "\n",
    "Resultado esperado: `Existem 2 crianças com uma boneca`"
   ]
  },
  {
   "cell_type": "code",
   "execution_count": 27,
   "metadata": {
    "id": "AT4NOdPhJ8eG"
   },
   "outputs": [
    {
     "name": "stdout",
     "output_type": "stream",
     "text": [
      "Existem 2 crianças com uma boneca\n"
     ]
    }
   ],
   "source": [
    "count = 0\n",
    "\n",
    "for crianca,list_brinquedos in brinquedos.items():\n",
    "    if 'boneca' in list_brinquedos:\n",
    "        count += 1\n",
    "\n",
    "print(f\"Existem {count} crianças com uma boneca\")"
   ]
  },
  {
   "attachments": {},
   "cell_type": "markdown",
   "metadata": {
    "id": "cdztO1ILJ8eG"
   },
   "source": [
    "4.7 crie uma instrução para adicionar um pião à lista de brinquedos do Manuel"
   ]
  },
  {
   "cell_type": "code",
   "execution_count": 28,
   "metadata": {
    "id": "F1CcgVAlJ8eG"
   },
   "outputs": [],
   "source": [
    "brinquedos[\"Manuel\"].append(\"pião\")"
   ]
  },
  {
   "attachments": {},
   "cell_type": "markdown",
   "metadata": {
    "id": "pyeJoT6-J8eG"
   },
   "source": [
    "4.8 remova a bola da lista de brinquedos do Manuel"
   ]
  },
  {
   "cell_type": "code",
   "execution_count": 32,
   "metadata": {
    "id": "dLuVHwSOJ8eG"
   },
   "outputs": [
    {
     "name": "stdout",
     "output_type": "stream",
     "text": [
      "{'Manuel': ['carro', 'pião'], 'Maria': ['boneca', 'bola'], 'Luis': ['bola', 'boneca', 'carro']}\n"
     ]
    }
   ],
   "source": [
    "brinquedos[\"Manuel\"].remove(\"bola\")\n",
    "print(brinquedos)"
   ]
  },
  {
   "attachments": {},
   "cell_type": "markdown",
   "metadata": {},
   "source": [
    "# Classes\n",
    "\n",
    "Os automóveis mais recentes mostram a distância que é possível percorrer até ser necessário um reabastecimento. Pretende-se criar esta funcionalidade em Python através da classe automovel. Esta classe é construída indicando os seguintes atributos: \n",
    "* capacidade_combustivel, a capacidade do depósito.\n",
    "* quant_combustivel, a quantidade de combustível no depósito.\n",
    "* consumo, o consumo do automóvel em litros aos 100 km. \n",
    "\n",
    "A classe automovel apresenta também os seguintes métodos:\n",
    "* combustivel: devolve a quantidade de combustível no depósito;\n",
    "* autonomia: devolve o numero de km que é possível percorrer com o combustível no depósito;\n",
    "* abastece(n_litros): aumenta em n_litros o combustível no depósito e retorna a autonomia. Se este abastecimento exceder a capacidade do depósito, gera um erro e não aumenta a quantidade de combustível no depósito;\n",
    "* percorre(n_km) percorre n_km Km, desde que a quantidade de combustível no depósito o permita, em caso contrário gera um erro e o trajecto não é efectuado. Retorna a autonomia.\n",
    "\n",
    "Exemplo de interação da classe:\n",
    "```\n",
    ">>> a1 = automovel(60, 10, 15)\n",
    ">>> a1.autonomia()\n",
    "66\n",
    ">>> a1.abastece(45)\n",
    "366\n",
    ">>> a1.percorre(150)\n",
    "216\n",
    ">>> a1.percorre(250)\n",
    "-1\n",
    "```\n",
    "\n",
    "Faça uma demonstração da utilização desta classe, implementando o exemplo atrás."
   ]
  },
  {
   "cell_type": "code",
   "execution_count": 37,
   "metadata": {},
   "outputs": [
    {
     "name": "stdout",
     "output_type": "stream",
     "text": [
      "66\n",
      "366\n"
     ]
    },
    {
     "ename": "ValueError",
     "evalue": "Combustível insuficiente.",
     "output_type": "error",
     "traceback": [
      "\u001b[1;31m---------------------------------------------------------------------------\u001b[0m",
      "\u001b[1;31mValueError\u001b[0m                                Traceback (most recent call last)",
      "Cell \u001b[1;32mIn[37], line 31\u001b[0m\n\u001b[0;32m     29\u001b[0m \u001b[39mprint\u001b[39m(a1\u001b[39m.\u001b[39mautonomia())\n\u001b[0;32m     30\u001b[0m \u001b[39mprint\u001b[39m(a1\u001b[39m.\u001b[39mabastece(\u001b[39m45\u001b[39m))\n\u001b[1;32m---> 31\u001b[0m \u001b[39mprint\u001b[39m(a1\u001b[39m.\u001b[39;49mpercorre(\u001b[39m150\u001b[39;49m))\n\u001b[0;32m     32\u001b[0m \u001b[39mprint\u001b[39m(a1\u001b[39m.\u001b[39mpercorre(\u001b[39m250\u001b[39m))\n",
      "Cell \u001b[1;32mIn[37], line 26\u001b[0m, in \u001b[0;36mautomovel.percorre\u001b[1;34m(self, n_km)\u001b[0m\n\u001b[0;32m     24\u001b[0m     \u001b[39mreturn\u001b[39;00m \u001b[39mself\u001b[39m\u001b[39m.\u001b[39mautonomia()\n\u001b[0;32m     25\u001b[0m \u001b[39melse\u001b[39;00m:\n\u001b[1;32m---> 26\u001b[0m     \u001b[39mraise\u001b[39;00m \u001b[39mValueError\u001b[39;00m(\u001b[39m\"\u001b[39m\u001b[39mCombustível insuficiente.\u001b[39m\u001b[39m\"\u001b[39m)\n",
      "\u001b[1;31mValueError\u001b[0m: Combustível insuficiente."
     ]
    }
   ],
   "source": [
    "class automovel():\n",
    "\n",
    "    def __init__ (self, capacidade_combustivel, quant_combustivel, consumo_combustivel):\n",
    "        self.capacidade = capacidade_combustivel\n",
    "        self.quantidade = quant_combustivel\n",
    "        self.consumo = consumo_combustivel\n",
    "\n",
    "    def combustivel(self):\n",
    "        return self.quantidade\n",
    "    \n",
    "    def autonomia(self):\n",
    "        return int((self.quantidade/self.consumo)*100)\n",
    "    \n",
    "    def abastece(self,n_litros):\n",
    "        if (self.quantidade + n_litros) <= self.capacidade:\n",
    "            self.quantidade += n_litros\n",
    "            return self.autonomia()\n",
    "        else:\n",
    "            raise ValueError(\"Capacidade de combustível ultrapassada.\")\n",
    "        \n",
    "    def percorre(self,n_km):\n",
    "        if (self.quantidade - (n_km/(self.consumo/100))) >= 0:\n",
    "            self.quantidade -= (n_km/(self.consumo/100))\n",
    "            return self.autonomia()\n",
    "        else:\n",
    "            raise ValueError(\"Combustível insuficiente.\")\n",
    "        \n",
    "a1 = automovel(60,10,15)\n",
    "print(a1.autonomia())\n",
    "print(a1.abastece(45))\n",
    "print(a1.percorre(150))\n",
    "print(a1.percorre(250))"
   ]
  }
 ],
 "metadata": {
  "colab": {
   "name": "padc-exercicios-04.ipynb",
   "provenance": []
  },
  "kernelspec": {
   "display_name": "Python 3 (ipykernel)",
   "language": "python",
   "name": "python3"
  },
  "language_info": {
   "codemirror_mode": {
    "name": "ipython",
    "version": 3
   },
   "file_extension": ".py",
   "mimetype": "text/x-python",
   "name": "python",
   "nbconvert_exporter": "python",
   "pygments_lexer": "ipython3",
   "version": "3.10.11"
  }
 },
 "nbformat": 4,
 "nbformat_minor": 1
}
